{
  "nbformat": 4,
  "nbformat_minor": 0,
  "metadata": {
    "colab": {
      "provenance": [],
      "authorship_tag": "ABX9TyOWta0UpAywl0snBsyXQM9h",
      "include_colab_link": true
    },
    "kernelspec": {
      "name": "python3",
      "display_name": "Python 3"
    },
    "language_info": {
      "name": "python"
    }
  },
  "cells": [
    {
      "cell_type": "markdown",
      "metadata": {
        "id": "view-in-github",
        "colab_type": "text"
      },
      "source": [
        "<a href=\"https://colab.research.google.com/github/asotova02/sistema.registro/blob/main/primer_desafio.ipynb\" target=\"_parent\"><img src=\"https://colab.research.google.com/assets/colab-badge.svg\" alt=\"Open In Colab\"/></a>"
      ]
    },
    {
      "cell_type": "code",
      "execution_count": 4,
      "metadata": {
        "id": "WkmJAFycyH6M"
      },
      "outputs": [],
      "source": [
        "import pandas as pd\n",
        "import numpy as np"
      ]
    },
    {
      "cell_type": "code",
      "source": [
        "tienda_1 = pd.read_csv('/content/tienda_1 .csv')"
      ],
      "metadata": {
        "id": "NqJHlHXRzS5j"
      },
      "execution_count": 5,
      "outputs": []
    },
    {
      "cell_type": "code",
      "source": [
        "tienda_2 = pd.read_csv('/content/tienda_2.csv')"
      ],
      "metadata": {
        "id": "uqjnqKjszimd"
      },
      "execution_count": 6,
      "outputs": []
    },
    {
      "cell_type": "code",
      "source": [
        "tienda_3 = pd.read_csv('/content/tienda_3.csv')"
      ],
      "metadata": {
        "id": "Oit7x9hwzv56"
      },
      "execution_count": 7,
      "outputs": []
    },
    {
      "cell_type": "code",
      "source": [
        "tienda_4 = pd.read_csv('/content/tienda_4.csv')"
      ],
      "metadata": {
        "id": "ry7datqJz0Iw"
      },
      "execution_count": 8,
      "outputs": []
    },
    {
      "cell_type": "code",
      "source": [
        "tienda_1.head() , tienda_2.head() , tienda_3.head() , tienda_4.head()"
      ],
      "metadata": {
        "colab": {
          "base_uri": "https://localhost:8080/"
        },
        "id": "EyVpeng90hI8",
        "outputId": "f68551f1-edd2-45a7-a03d-de8687180482"
      },
      "execution_count": 9,
      "outputs": [
        {
          "output_type": "execute_result",
          "data": {
            "text/plain": [
              "(            Producto Categoría del Producto    Precio  Costo de envío  \\\n",
              " 0  Asistente virtual           Electrónicos  164300.0          6900.0   \n",
              " 1    Mesa de comedor                Muebles  192300.0          8400.0   \n",
              " 2      Juego de mesa               Juguetes  209600.0         15900.0   \n",
              " 3         Microondas      Electrodomésticos  757500.0         41000.0   \n",
              " 4   Silla de oficina                Muebles  335200.0         20200.0   \n",
              " \n",
              "   Fecha de Compra         Vendedor Lugar de Compra  Calificación  \\\n",
              " 0      16/01/2021      Pedro Gomez          Bogotá             4   \n",
              " 1      18/05/2022  Beatriz Morales        Medellín             1   \n",
              " 2      15/03/2021   Juan Fernandez       Cartagena             1   \n",
              " 3      03/05/2022   Juan Fernandez            Cali             4   \n",
              " 4      07/11/2020    Maria Alfonso        Medellín             5   \n",
              " \n",
              "        Método de pago  Cantidad de cuotas       lat       lon  \n",
              " 0  Tarjeta de crédito                   8   4.60971 -74.08175  \n",
              " 1  Tarjeta de crédito                   4   6.25184 -75.56359  \n",
              " 2  Tarjeta de crédito                   1  10.39972 -75.51444  \n",
              " 3               Nequi                   1   3.43722 -76.52250  \n",
              " 4               Nequi                   1   6.25184 -75.56359  ,\n",
              "            Producto  Categoría del Producto    Precio  Costo de envío  \\\n",
              " 0  Silla de oficina                 Muebles  283600.0         15300.0   \n",
              " 1         Pandereta  Instrumentos musicales   76800.0          2300.0   \n",
              " 2         Cama king                 Muebles  443300.0         23800.0   \n",
              " 3         Cama king                 Muebles  906200.0         46400.0   \n",
              " 4  Silla de oficina                 Muebles  397800.0         19400.0   \n",
              " \n",
              "   Fecha de Compra         Vendedor Lugar de Compra  Calificación  \\\n",
              " 0      04/08/2021  Izabela de León        Medellín             1   \n",
              " 1      26/11/2020   Blanca Ramirez        Medellín             3   \n",
              " 2      22/10/2021  Izabela de León         Pereira             5   \n",
              " 3      04/05/2022    Maria Alfonso            Cali             5   \n",
              " 4      26/02/2022    Lucas Olivera          Bogotá             4   \n",
              " \n",
              "        Método de pago  Cantidad de cuotas      lat       lon  \n",
              " 0               Nequi                   1  6.25184 -75.56359  \n",
              " 1  Tarjeta de crédito                   4  6.25184 -75.56359  \n",
              " 2  Tarjeta de crédito                  10  4.81333 -75.69611  \n",
              " 3  Tarjeta de crédito                  10  3.43722 -76.52250  \n",
              " 4  Tarjeta de crédito                   3  4.60971 -74.08175  ,\n",
              "             Producto  Categoría del Producto     Precio  Costo de envío  \\\n",
              " 0   Secadora de ropa       Electrodomésticos  1285100.0         66600.0   \n",
              " 1      Mesa de noche                 Muebles   290100.0         13600.0   \n",
              " 2  Guitarra acústica  Instrumentos musicales   303500.0         17400.0   \n",
              " 3  Balón de voleibol    Deportes y diversión    58800.0          3300.0   \n",
              " 4            Armario                 Muebles   521100.0         25900.0   \n",
              " \n",
              "   Fecha de Compra        Vendedor Lugar de Compra  Calificación  \\\n",
              " 0      17/12/2021   Camila Rivera     Santa Marta             4   \n",
              " 1      10/02/2021   Maria Alfonso            Cali             3   \n",
              " 2      22/01/2023   Lucas Olivera          Bogotá             5   \n",
              " 3      22/03/2022     Pedro Gomez    Barranquilla             4   \n",
              " 4      12/01/2022  Blanca Ramirez          Bogotá             1   \n",
              " \n",
              "        Método de pago  Cantidad de cuotas       lat       lon  \n",
              " 0  Tarjeta de crédito                   4  11.24079 -74.19904  \n",
              " 1  Tarjeta de crédito                   1   3.43722 -76.52250  \n",
              " 2  Tarjeta de crédito                   3   4.60971 -74.08175  \n",
              " 3  Tarjeta de crédito                   6  10.96854 -74.78132  \n",
              " 4  Tarjeta de crédito                   1   4.60971 -74.08175  ,\n",
              "               Producto Categoría del Producto     Precio  Costo de envío  \\\n",
              " 0         Lavavajillas      Electrodomésticos  1084800.0         56000.0   \n",
              " 1             Cama box                Muebles   473800.0         25400.0   \n",
              " 2  Balón de baloncesto   Deportes y diversión    23700.0             0.0   \n",
              " 3  Modelado predictivo                 Libros    57700.0          1300.0   \n",
              " 4          Auriculares           Electrónicos   138900.0          5600.0   \n",
              " \n",
              "   Fecha de Compra         Vendedor Lugar de Compra  Calificación  \\\n",
              " 0      11/11/2022    Rafael Acosta          Bogotá             4   \n",
              " 1      03/01/2020  Izabela de León          Cúcuta             5   \n",
              " 2      25/12/2022    Maria Alfonso        Medellín             5   \n",
              " 3      23/11/2021    Lucas Olivera        Medellín             3   \n",
              " 4      25/04/2022   Blanca Ramirez          Bogotá             4   \n",
              " \n",
              "        Método de pago  Cantidad de cuotas      lat       lon  \n",
              " 0  Tarjeta de crédito                   3  4.60971 -74.08175  \n",
              " 1  Tarjeta de crédito                   2  7.89391 -72.50782  \n",
              " 2               Nequi                   1  6.25184 -75.56359  \n",
              " 3               Nequi                   1  6.25184 -75.56359  \n",
              " 4  Tarjeta de crédito                   7  4.60971 -74.08175  )"
            ]
          },
          "metadata": {},
          "execution_count": 9
        }
      ]
    },
    {
      "cell_type": "code",
      "source": [
        "# Unir por índice\n",
        "df = pd.concat([tienda_1, tienda_2, tienda_3, tienda_4], axis=1)\n",
        "df.head()"
      ],
      "metadata": {
        "colab": {
          "base_uri": "https://localhost:8080/",
          "height": 446
        },
        "id": "JJJ58Bhn1bvi",
        "outputId": "1c8e3512-8387-4694-fa0e-62d9c33d5e83"
      },
      "execution_count": 10,
      "outputs": [
        {
          "output_type": "execute_result",
          "data": {
            "text/plain": [
              "            Producto Categoría del Producto    Precio  Costo de envío  \\\n",
              "0  Asistente virtual           Electrónicos  164300.0          6900.0   \n",
              "1    Mesa de comedor                Muebles  192300.0          8400.0   \n",
              "2      Juego de mesa               Juguetes  209600.0         15900.0   \n",
              "3         Microondas      Electrodomésticos  757500.0         41000.0   \n",
              "4   Silla de oficina                Muebles  335200.0         20200.0   \n",
              "\n",
              "  Fecha de Compra         Vendedor  Lugar de Compra  Calificación  \\\n",
              "0      16/01/2021      Pedro Gomez           Bogotá             4   \n",
              "1      18/05/2022  Beatriz Morales         Medellín             1   \n",
              "2      15/03/2021   Juan Fernandez        Cartagena             1   \n",
              "3      03/05/2022   Juan Fernandez             Cali             4   \n",
              "4      07/11/2020    Maria Alfonso         Medellín             5   \n",
              "\n",
              "       Método de pago Cantidad de cuotas  ...     Precio  Costo de envío  \\\n",
              "0  Tarjeta de crédito                  8  ...  1084800.0         56000.0   \n",
              "1  Tarjeta de crédito                  4  ...   473800.0         25400.0   \n",
              "2  Tarjeta de crédito                  1  ...    23700.0             0.0   \n",
              "3               Nequi                  1  ...    57700.0          1300.0   \n",
              "4               Nequi                  1  ...   138900.0          5600.0   \n",
              "\n",
              "  Fecha de Compra         Vendedor  Lugar de Compra  Calificación  \\\n",
              "0      11/11/2022    Rafael Acosta           Bogotá           4.0   \n",
              "1      03/01/2020  Izabela de León           Cúcuta           5.0   \n",
              "2      25/12/2022    Maria Alfonso         Medellín           5.0   \n",
              "3      23/11/2021    Lucas Olivera         Medellín           3.0   \n",
              "4      25/04/2022   Blanca Ramirez           Bogotá           4.0   \n",
              "\n",
              "       Método de pago Cantidad de cuotas      lat       lon  \n",
              "0  Tarjeta de crédito                3.0  4.60971 -74.08175  \n",
              "1  Tarjeta de crédito                2.0  7.89391 -72.50782  \n",
              "2               Nequi                1.0  6.25184 -75.56359  \n",
              "3               Nequi                1.0  6.25184 -75.56359  \n",
              "4  Tarjeta de crédito                7.0  4.60971 -74.08175  \n",
              "\n",
              "[5 rows x 48 columns]"
            ],
            "text/html": [
              "\n",
              "  <div id=\"df-dbb7347b-2aaf-4b18-ae08-bc613309a5b3\" class=\"colab-df-container\">\n",
              "    <div>\n",
              "<style scoped>\n",
              "    .dataframe tbody tr th:only-of-type {\n",
              "        vertical-align: middle;\n",
              "    }\n",
              "\n",
              "    .dataframe tbody tr th {\n",
              "        vertical-align: top;\n",
              "    }\n",
              "\n",
              "    .dataframe thead th {\n",
              "        text-align: right;\n",
              "    }\n",
              "</style>\n",
              "<table border=\"1\" class=\"dataframe\">\n",
              "  <thead>\n",
              "    <tr style=\"text-align: right;\">\n",
              "      <th></th>\n",
              "      <th>Producto</th>\n",
              "      <th>Categoría del Producto</th>\n",
              "      <th>Precio</th>\n",
              "      <th>Costo de envío</th>\n",
              "      <th>Fecha de Compra</th>\n",
              "      <th>Vendedor</th>\n",
              "      <th>Lugar de Compra</th>\n",
              "      <th>Calificación</th>\n",
              "      <th>Método de pago</th>\n",
              "      <th>Cantidad de cuotas</th>\n",
              "      <th>...</th>\n",
              "      <th>Precio</th>\n",
              "      <th>Costo de envío</th>\n",
              "      <th>Fecha de Compra</th>\n",
              "      <th>Vendedor</th>\n",
              "      <th>Lugar de Compra</th>\n",
              "      <th>Calificación</th>\n",
              "      <th>Método de pago</th>\n",
              "      <th>Cantidad de cuotas</th>\n",
              "      <th>lat</th>\n",
              "      <th>lon</th>\n",
              "    </tr>\n",
              "  </thead>\n",
              "  <tbody>\n",
              "    <tr>\n",
              "      <th>0</th>\n",
              "      <td>Asistente virtual</td>\n",
              "      <td>Electrónicos</td>\n",
              "      <td>164300.0</td>\n",
              "      <td>6900.0</td>\n",
              "      <td>16/01/2021</td>\n",
              "      <td>Pedro Gomez</td>\n",
              "      <td>Bogotá</td>\n",
              "      <td>4</td>\n",
              "      <td>Tarjeta de crédito</td>\n",
              "      <td>8</td>\n",
              "      <td>...</td>\n",
              "      <td>1084800.0</td>\n",
              "      <td>56000.0</td>\n",
              "      <td>11/11/2022</td>\n",
              "      <td>Rafael Acosta</td>\n",
              "      <td>Bogotá</td>\n",
              "      <td>4.0</td>\n",
              "      <td>Tarjeta de crédito</td>\n",
              "      <td>3.0</td>\n",
              "      <td>4.60971</td>\n",
              "      <td>-74.08175</td>\n",
              "    </tr>\n",
              "    <tr>\n",
              "      <th>1</th>\n",
              "      <td>Mesa de comedor</td>\n",
              "      <td>Muebles</td>\n",
              "      <td>192300.0</td>\n",
              "      <td>8400.0</td>\n",
              "      <td>18/05/2022</td>\n",
              "      <td>Beatriz Morales</td>\n",
              "      <td>Medellín</td>\n",
              "      <td>1</td>\n",
              "      <td>Tarjeta de crédito</td>\n",
              "      <td>4</td>\n",
              "      <td>...</td>\n",
              "      <td>473800.0</td>\n",
              "      <td>25400.0</td>\n",
              "      <td>03/01/2020</td>\n",
              "      <td>Izabela de León</td>\n",
              "      <td>Cúcuta</td>\n",
              "      <td>5.0</td>\n",
              "      <td>Tarjeta de crédito</td>\n",
              "      <td>2.0</td>\n",
              "      <td>7.89391</td>\n",
              "      <td>-72.50782</td>\n",
              "    </tr>\n",
              "    <tr>\n",
              "      <th>2</th>\n",
              "      <td>Juego de mesa</td>\n",
              "      <td>Juguetes</td>\n",
              "      <td>209600.0</td>\n",
              "      <td>15900.0</td>\n",
              "      <td>15/03/2021</td>\n",
              "      <td>Juan Fernandez</td>\n",
              "      <td>Cartagena</td>\n",
              "      <td>1</td>\n",
              "      <td>Tarjeta de crédito</td>\n",
              "      <td>1</td>\n",
              "      <td>...</td>\n",
              "      <td>23700.0</td>\n",
              "      <td>0.0</td>\n",
              "      <td>25/12/2022</td>\n",
              "      <td>Maria Alfonso</td>\n",
              "      <td>Medellín</td>\n",
              "      <td>5.0</td>\n",
              "      <td>Nequi</td>\n",
              "      <td>1.0</td>\n",
              "      <td>6.25184</td>\n",
              "      <td>-75.56359</td>\n",
              "    </tr>\n",
              "    <tr>\n",
              "      <th>3</th>\n",
              "      <td>Microondas</td>\n",
              "      <td>Electrodomésticos</td>\n",
              "      <td>757500.0</td>\n",
              "      <td>41000.0</td>\n",
              "      <td>03/05/2022</td>\n",
              "      <td>Juan Fernandez</td>\n",
              "      <td>Cali</td>\n",
              "      <td>4</td>\n",
              "      <td>Nequi</td>\n",
              "      <td>1</td>\n",
              "      <td>...</td>\n",
              "      <td>57700.0</td>\n",
              "      <td>1300.0</td>\n",
              "      <td>23/11/2021</td>\n",
              "      <td>Lucas Olivera</td>\n",
              "      <td>Medellín</td>\n",
              "      <td>3.0</td>\n",
              "      <td>Nequi</td>\n",
              "      <td>1.0</td>\n",
              "      <td>6.25184</td>\n",
              "      <td>-75.56359</td>\n",
              "    </tr>\n",
              "    <tr>\n",
              "      <th>4</th>\n",
              "      <td>Silla de oficina</td>\n",
              "      <td>Muebles</td>\n",
              "      <td>335200.0</td>\n",
              "      <td>20200.0</td>\n",
              "      <td>07/11/2020</td>\n",
              "      <td>Maria Alfonso</td>\n",
              "      <td>Medellín</td>\n",
              "      <td>5</td>\n",
              "      <td>Nequi</td>\n",
              "      <td>1</td>\n",
              "      <td>...</td>\n",
              "      <td>138900.0</td>\n",
              "      <td>5600.0</td>\n",
              "      <td>25/04/2022</td>\n",
              "      <td>Blanca Ramirez</td>\n",
              "      <td>Bogotá</td>\n",
              "      <td>4.0</td>\n",
              "      <td>Tarjeta de crédito</td>\n",
              "      <td>7.0</td>\n",
              "      <td>4.60971</td>\n",
              "      <td>-74.08175</td>\n",
              "    </tr>\n",
              "  </tbody>\n",
              "</table>\n",
              "<p>5 rows × 48 columns</p>\n",
              "</div>\n",
              "    <div class=\"colab-df-buttons\">\n",
              "\n",
              "  <div class=\"colab-df-container\">\n",
              "    <button class=\"colab-df-convert\" onclick=\"convertToInteractive('df-dbb7347b-2aaf-4b18-ae08-bc613309a5b3')\"\n",
              "            title=\"Convert this dataframe to an interactive table.\"\n",
              "            style=\"display:none;\">\n",
              "\n",
              "  <svg xmlns=\"http://www.w3.org/2000/svg\" height=\"24px\" viewBox=\"0 -960 960 960\">\n",
              "    <path d=\"M120-120v-720h720v720H120Zm60-500h600v-160H180v160Zm220 220h160v-160H400v160Zm0 220h160v-160H400v160ZM180-400h160v-160H180v160Zm440 0h160v-160H620v160ZM180-180h160v-160H180v160Zm440 0h160v-160H620v160Z\"/>\n",
              "  </svg>\n",
              "    </button>\n",
              "\n",
              "  <style>\n",
              "    .colab-df-container {\n",
              "      display:flex;\n",
              "      gap: 12px;\n",
              "    }\n",
              "\n",
              "    .colab-df-convert {\n",
              "      background-color: #E8F0FE;\n",
              "      border: none;\n",
              "      border-radius: 50%;\n",
              "      cursor: pointer;\n",
              "      display: none;\n",
              "      fill: #1967D2;\n",
              "      height: 32px;\n",
              "      padding: 0 0 0 0;\n",
              "      width: 32px;\n",
              "    }\n",
              "\n",
              "    .colab-df-convert:hover {\n",
              "      background-color: #E2EBFA;\n",
              "      box-shadow: 0px 1px 2px rgba(60, 64, 67, 0.3), 0px 1px 3px 1px rgba(60, 64, 67, 0.15);\n",
              "      fill: #174EA6;\n",
              "    }\n",
              "\n",
              "    .colab-df-buttons div {\n",
              "      margin-bottom: 4px;\n",
              "    }\n",
              "\n",
              "    [theme=dark] .colab-df-convert {\n",
              "      background-color: #3B4455;\n",
              "      fill: #D2E3FC;\n",
              "    }\n",
              "\n",
              "    [theme=dark] .colab-df-convert:hover {\n",
              "      background-color: #434B5C;\n",
              "      box-shadow: 0px 1px 3px 1px rgba(0, 0, 0, 0.15);\n",
              "      filter: drop-shadow(0px 1px 2px rgba(0, 0, 0, 0.3));\n",
              "      fill: #FFFFFF;\n",
              "    }\n",
              "  </style>\n",
              "\n",
              "    <script>\n",
              "      const buttonEl =\n",
              "        document.querySelector('#df-dbb7347b-2aaf-4b18-ae08-bc613309a5b3 button.colab-df-convert');\n",
              "      buttonEl.style.display =\n",
              "        google.colab.kernel.accessAllowed ? 'block' : 'none';\n",
              "\n",
              "      async function convertToInteractive(key) {\n",
              "        const element = document.querySelector('#df-dbb7347b-2aaf-4b18-ae08-bc613309a5b3');\n",
              "        const dataTable =\n",
              "          await google.colab.kernel.invokeFunction('convertToInteractive',\n",
              "                                                    [key], {});\n",
              "        if (!dataTable) return;\n",
              "\n",
              "        const docLinkHtml = 'Like what you see? Visit the ' +\n",
              "          '<a target=\"_blank\" href=https://colab.research.google.com/notebooks/data_table.ipynb>data table notebook</a>'\n",
              "          + ' to learn more about interactive tables.';\n",
              "        element.innerHTML = '';\n",
              "        dataTable['output_type'] = 'display_data';\n",
              "        await google.colab.output.renderOutput(dataTable, element);\n",
              "        const docLink = document.createElement('div');\n",
              "        docLink.innerHTML = docLinkHtml;\n",
              "        element.appendChild(docLink);\n",
              "      }\n",
              "    </script>\n",
              "  </div>\n",
              "\n",
              "\n",
              "    <div id=\"df-af21feb9-167d-4f7a-8c03-1145df763035\">\n",
              "      <button class=\"colab-df-quickchart\" onclick=\"quickchart('df-af21feb9-167d-4f7a-8c03-1145df763035')\"\n",
              "                title=\"Suggest charts\"\n",
              "                style=\"display:none;\">\n",
              "\n",
              "<svg xmlns=\"http://www.w3.org/2000/svg\" height=\"24px\"viewBox=\"0 0 24 24\"\n",
              "     width=\"24px\">\n",
              "    <g>\n",
              "        <path d=\"M19 3H5c-1.1 0-2 .9-2 2v14c0 1.1.9 2 2 2h14c1.1 0 2-.9 2-2V5c0-1.1-.9-2-2-2zM9 17H7v-7h2v7zm4 0h-2V7h2v10zm4 0h-2v-4h2v4z\"/>\n",
              "    </g>\n",
              "</svg>\n",
              "      </button>\n",
              "\n",
              "<style>\n",
              "  .colab-df-quickchart {\n",
              "      --bg-color: #E8F0FE;\n",
              "      --fill-color: #1967D2;\n",
              "      --hover-bg-color: #E2EBFA;\n",
              "      --hover-fill-color: #174EA6;\n",
              "      --disabled-fill-color: #AAA;\n",
              "      --disabled-bg-color: #DDD;\n",
              "  }\n",
              "\n",
              "  [theme=dark] .colab-df-quickchart {\n",
              "      --bg-color: #3B4455;\n",
              "      --fill-color: #D2E3FC;\n",
              "      --hover-bg-color: #434B5C;\n",
              "      --hover-fill-color: #FFFFFF;\n",
              "      --disabled-bg-color: #3B4455;\n",
              "      --disabled-fill-color: #666;\n",
              "  }\n",
              "\n",
              "  .colab-df-quickchart {\n",
              "    background-color: var(--bg-color);\n",
              "    border: none;\n",
              "    border-radius: 50%;\n",
              "    cursor: pointer;\n",
              "    display: none;\n",
              "    fill: var(--fill-color);\n",
              "    height: 32px;\n",
              "    padding: 0;\n",
              "    width: 32px;\n",
              "  }\n",
              "\n",
              "  .colab-df-quickchart:hover {\n",
              "    background-color: var(--hover-bg-color);\n",
              "    box-shadow: 0 1px 2px rgba(60, 64, 67, 0.3), 0 1px 3px 1px rgba(60, 64, 67, 0.15);\n",
              "    fill: var(--button-hover-fill-color);\n",
              "  }\n",
              "\n",
              "  .colab-df-quickchart-complete:disabled,\n",
              "  .colab-df-quickchart-complete:disabled:hover {\n",
              "    background-color: var(--disabled-bg-color);\n",
              "    fill: var(--disabled-fill-color);\n",
              "    box-shadow: none;\n",
              "  }\n",
              "\n",
              "  .colab-df-spinner {\n",
              "    border: 2px solid var(--fill-color);\n",
              "    border-color: transparent;\n",
              "    border-bottom-color: var(--fill-color);\n",
              "    animation:\n",
              "      spin 1s steps(1) infinite;\n",
              "  }\n",
              "\n",
              "  @keyframes spin {\n",
              "    0% {\n",
              "      border-color: transparent;\n",
              "      border-bottom-color: var(--fill-color);\n",
              "      border-left-color: var(--fill-color);\n",
              "    }\n",
              "    20% {\n",
              "      border-color: transparent;\n",
              "      border-left-color: var(--fill-color);\n",
              "      border-top-color: var(--fill-color);\n",
              "    }\n",
              "    30% {\n",
              "      border-color: transparent;\n",
              "      border-left-color: var(--fill-color);\n",
              "      border-top-color: var(--fill-color);\n",
              "      border-right-color: var(--fill-color);\n",
              "    }\n",
              "    40% {\n",
              "      border-color: transparent;\n",
              "      border-right-color: var(--fill-color);\n",
              "      border-top-color: var(--fill-color);\n",
              "    }\n",
              "    60% {\n",
              "      border-color: transparent;\n",
              "      border-right-color: var(--fill-color);\n",
              "    }\n",
              "    80% {\n",
              "      border-color: transparent;\n",
              "      border-right-color: var(--fill-color);\n",
              "      border-bottom-color: var(--fill-color);\n",
              "    }\n",
              "    90% {\n",
              "      border-color: transparent;\n",
              "      border-bottom-color: var(--fill-color);\n",
              "    }\n",
              "  }\n",
              "</style>\n",
              "\n",
              "      <script>\n",
              "        async function quickchart(key) {\n",
              "          const quickchartButtonEl =\n",
              "            document.querySelector('#' + key + ' button');\n",
              "          quickchartButtonEl.disabled = true;  // To prevent multiple clicks.\n",
              "          quickchartButtonEl.classList.add('colab-df-spinner');\n",
              "          try {\n",
              "            const charts = await google.colab.kernel.invokeFunction(\n",
              "                'suggestCharts', [key], {});\n",
              "          } catch (error) {\n",
              "            console.error('Error during call to suggestCharts:', error);\n",
              "          }\n",
              "          quickchartButtonEl.classList.remove('colab-df-spinner');\n",
              "          quickchartButtonEl.classList.add('colab-df-quickchart-complete');\n",
              "        }\n",
              "        (() => {\n",
              "          let quickchartButtonEl =\n",
              "            document.querySelector('#df-af21feb9-167d-4f7a-8c03-1145df763035 button');\n",
              "          quickchartButtonEl.style.display =\n",
              "            google.colab.kernel.accessAllowed ? 'block' : 'none';\n",
              "        })();\n",
              "      </script>\n",
              "    </div>\n",
              "\n",
              "    </div>\n",
              "  </div>\n"
            ],
            "application/vnd.google.colaboratory.intrinsic+json": {
              "type": "dataframe",
              "variable_name": "df"
            }
          },
          "metadata": {},
          "execution_count": 10
        }
      ]
    },
    {
      "cell_type": "code",
      "source": [
        "ingreso_totalt1 = tienda_1['Precio'].sum()\n",
        "ingreso_totalt2 = tienda_2['Precio'].sum()\n",
        "ingreso_totalt3 = tienda_3['Precio'].sum()\n",
        "ingreso_totalt4 = tienda_4['Precio'].sum()\n",
        "\n",
        "print(f\"Ingreso total tienda 1: {ingreso_totalt1}\")\n",
        "print(f\"Ingreso total tienda 2: {ingreso_totalt2}\")\n",
        "print(f\"Ingreso total tienda 3: {ingreso_totalt3}\")\n",
        "print(f\"Ingreso total tienda 4: {ingreso_totalt4}\")"
      ],
      "metadata": {
        "colab": {
          "base_uri": "https://localhost:8080/"
        },
        "id": "E_tpfvtg6ebE",
        "outputId": "33f5fb06-b2ea-4ff9-bf9a-40eeb6e7962b"
      },
      "execution_count": 11,
      "outputs": [
        {
          "output_type": "stream",
          "name": "stdout",
          "text": [
            "Ingreso total tienda 1: 1150880400.0\n",
            "Ingreso total tienda 2: 1116343500.0\n",
            "Ingreso total tienda 3: 1098019600.0\n",
            "Ingreso total tienda 4: 1038375700.0\n"
          ]
        }
      ]
    },
    {
      "cell_type": "code",
      "source": [
        "# Ingresos (usando tus números)\n",
        "ingresos = {\n",
        "    'Tienda': ['Tienda 1', 'Tienda 2', 'Tienda 3', 'Tienda 4'],\n",
        "    'Ingreso Total': [1150880400.0, 1116343500.0, 1098019600.0, 1038375700.0]\n",
        "}\n",
        "\n",
        "df_ingresos = pd.DataFrame(ingresos)\n",
        "\n",
        "# Formatear los ingresos con separador de miles\n",
        "df_ingresos['Ingreso Formateado'] = df_ingresos['Ingreso Total'].apply(lambda x: f\"Col${x:,.0f}\")\n",
        "\n",
        "# Mostrar\n",
        "print(df_ingresos)\n"
      ],
      "metadata": {
        "colab": {
          "base_uri": "https://localhost:8080/"
        },
        "id": "Lzmo5zrS8Aqw",
        "outputId": "0cde0e39-fd7d-4961-f010-309569140021"
      },
      "execution_count": 12,
      "outputs": [
        {
          "output_type": "stream",
          "name": "stdout",
          "text": [
            "     Tienda  Ingreso Total Ingreso Formateado\n",
            "0  Tienda 1   1.150880e+09  Col$1,150,880,400\n",
            "1  Tienda 2   1.116344e+09  Col$1,116,343,500\n",
            "2  Tienda 3   1.098020e+09  Col$1,098,019,600\n",
            "3  Tienda 4   1.038376e+09  Col$1,038,375,700\n"
          ]
        }
      ]
    },
    {
      "cell_type": "code",
      "source": [
        "import matplotlib.pyplot as plt"
      ],
      "metadata": {
        "id": "Y1ig1a3u8MAL"
      },
      "execution_count": 13,
      "outputs": []
    },
    {
      "cell_type": "code",
      "source": [
        "plt.figure(figsize=(8,5))\n",
        "plt.bar(df_ingresos['Tienda'], df_ingresos['Ingreso Total'], color='darkcyan')\n",
        "plt.title('Ingreso Total por Tienda')\n",
        "plt.ylabel('Pesos colombianos (Col$)')\n",
        "plt.xlabel('Tienda')\n",
        "plt.grid(axis='y', linestyle='--', alpha=0.7)\n",
        "\n",
        "# Agregar los valores encima de cada barra\n",
        "for i, valor in enumerate(df_ingresos['Ingreso Total']):\n",
        "    plt.text(i, valor + 5000000, f\"Col${valor:,.0f}\", ha='center', va='bottom', fontsize=9)\n",
        "\n",
        "plt.tight_layout()\n",
        "plt.show()"
      ],
      "metadata": {
        "colab": {
          "base_uri": "https://localhost:8080/",
          "height": 507
        },
        "id": "glZcNibN8RwO",
        "outputId": "2d4d8d62-2664-4c82-e38c-180fdfa3ff59"
      },
      "execution_count": 14,
      "outputs": [
        {
          "output_type": "display_data",
          "data": {
            "text/plain": [
              "<Figure size 800x500 with 1 Axes>"
            ],
            "image/png": "[encoded data removed]"
          },
          "metadata": {}
        }
      ]
    },
    {
      "cell_type": "code",
      "source": [
        "df.columns"
      ],
      "metadata": {
        "colab": {
          "base_uri": "https://localhost:8080/"
        },
        "id": "mryYTSfq-_O7",
        "outputId": "d2efbe94-e75b-4ca9-9881-d953c60a1407"
      },
      "execution_count": 15,
      "outputs": [
        {
          "output_type": "execute_result",
          "data": {
            "text/plain": [
              "Index(['Producto', 'Categoría del Producto', 'Precio', 'Costo de envío',\n",
              "       'Fecha de Compra', 'Vendedor', 'Lugar de Compra', 'Calificación',\n",
              "       'Método de pago', 'Cantidad de cuotas', 'lat', 'lon', 'Producto',\n",
              "       'Categoría del Producto', 'Precio', 'Costo de envío', 'Fecha de Compra',\n",
              "       'Vendedor', 'Lugar de Compra', 'Calificación', 'Método de pago',\n",
              "       'Cantidad de cuotas', 'lat', 'lon', 'Producto',\n",
              "       'Categoría del Producto', 'Precio', 'Costo de envío', 'Fecha de Compra',\n",
              "       'Vendedor', 'Lugar de Compra', 'Calificación', 'Método de pago',\n",
              "       'Cantidad de cuotas', 'lat', 'lon', 'Producto',\n",
              "       'Categoría del Producto', 'Precio', 'Costo de envío', 'Fecha de Compra',\n",
              "       'Vendedor', 'Lugar de Compra', 'Calificación', 'Método de pago',\n",
              "       'Cantidad de cuotas', 'lat', 'lon'],\n",
              "      dtype='object')"
            ]
          },
          "metadata": {},
          "execution_count": 15
        }
      ]
    },
    {
      "cell_type": "code",
      "source": [
        "\n",
        "tienda_1['Tienda'] = 'Tienda 1'\n",
        "tienda_2['Tienda'] = 'Tienda 2'\n",
        "tienda_3['Tienda'] = 'Tienda 3'\n",
        "tienda_4['Tienda'] = 'Tienda 4'\n",
        "\n",
        "# Unir todos los archivos en uno solo\n",
        "df_total = pd.concat([tienda_1, tienda_2, tienda_3, tienda_4], ignore_index=True)\n",
        "\n",
        "# Calcular calificación promedio por tienda\n",
        "satisfaccion_por_tienda = df_total.groupby('Tienda')['Calificación'].mean().reset_index()\n",
        "satisfaccion_por_tienda.columns = ['Tienda', 'Calificación Promedio']\n",
        "\n",
        "print(satisfaccion_por_tienda)\n",
        ""
      ],
      "metadata": {
        "id": "8gJtJhINYrU0",
        "outputId": "f9f21314-16a0-4727-dd77-e36b1a5de422",
        "colab": {
          "base_uri": "https://localhost:8080/"
        }
      },
      "execution_count": 32,
      "outputs": [
        {
          "output_type": "stream",
          "name": "stdout",
          "text": [
            "     Tienda  Calificación Promedio\n",
            "0  Tienda 1               3.976685\n",
            "1  Tienda 2               4.037304\n",
            "2  Tienda 3               4.048326\n",
            "3  Tienda 4               3.995759\n"
          ]
        }
      ]
    },
    {
      "cell_type": "code",
      "source": [
        "df_total = pd.concat([tienda_1, tienda_2, tienda_3, tienda_4], ignore_index=True)"
      ],
      "metadata": {
        "id": "cBpNP2V-_NiV"
      },
      "execution_count": 16,
      "outputs": []
    },
    {
      "cell_type": "code",
      "source": [
        "ventas_por_categoria = df_total['Categoría del Producto'].value_counts().reset_index()\n",
        "ventas_por_categoria.columns = ['Categoría del Producto', 'Cantidad de Ventas']\n",
        "\n",
        "print(ventas_por_categoria)"
      ],
      "metadata": {
        "colab": {
          "base_uri": "https://localhost:8080/"
        },
        "id": "yLjHQIx__RJV",
        "outputId": "b8cdb5b5-cd88-469c-a792-93267543eb1c"
      },
      "execution_count": 17,
      "outputs": [
        {
          "output_type": "stream",
          "name": "stdout",
          "text": [
            "    Categoría del Producto  Cantidad de Ventas\n",
            "0                  Muebles                1886\n",
            "1             Electrónicos                1772\n",
            "2                 Juguetes                1290\n",
            "3        Electrodomésticos                1149\n",
            "4     Deportes y diversión                1113\n",
            "5   Instrumentos musicales                 753\n",
            "6                   Libros                 742\n",
            "7  Artículos para el hogar                 730\n"
          ]
        }
      ]
    },
    {
      "cell_type": "code",
      "source": [
        "import matplotlib.pyplot as plt\n",
        "\n",
        "# Ordenar categorías si deseas (opcional)\n",
        "ventas_por_categoria = ventas_por_categoria.sort_values('Cantidad de Ventas', ascending=False)\n",
        "\n",
        "# Crear gráfico\n",
        "plt.figure(figsize=(12,6))\n",
        "plt.plot(ventas_por_categoria['Categoría del Producto'], ventas_por_categoria['Cantidad de Ventas'],\n",
        "         marker='o', linestyle='-', color='blue')\n",
        "\n",
        "# Estética\n",
        "plt.title('Cantidad de Ventas por Categoría de Producto')\n",
        "plt.xlabel('Categoría del Producto')\n",
        "plt.ylabel('Cantidad de Ventas')\n",
        "plt.xticks(rotation=45, ha='right')  # Rota etiquetas si hay muchas\n",
        "plt.grid(True)\n",
        "plt.tight_layout()\n",
        "\n",
        "# Mostrar\n",
        "plt.show()"
      ],
      "metadata": {
        "colab": {
          "base_uri": "https://localhost:8080/",
          "height": 560
        },
        "id": "XWUgGhx_VP83",
        "outputId": "5e97542a-ba69-4199-94d0-9c3d642363b2"
      },
      "execution_count": 18,
      "outputs": [
        {
          "output_type": "display_data",
          "data": {
            "text/plain": [
              "<Figure size 1200x600 with 1 Axes>"
            ],
            "image/png": "[encoded data removed]"
          },
          "metadata": {}
        }
      ]
    },
    {
      "cell_type": "code",
      "source": [
        "tienda_1['Tienda'] = 'Tienda 1'\n",
        "tienda_2['Tienda'] = 'Tienda 2'\n",
        "tienda_3['Tienda'] = 'Tienda 3'\n",
        "tienda_4['Tienda'] = 'Tienda 4'\n",
        "\n",
        "# Unir todos los archivos en uno solo\n",
        "df_total = pd.concat([tienda_1, tienda_2, tienda_3, tienda_4], ignore_index=True)\n",
        "\n",
        "# Calcular calificación promedio por tienda\n",
        "satisfaccion_por_tienda = df_total.groupby('Tienda')['Calificación'].mean().reset_index()\n",
        "satisfaccion_por_tienda.columns = ['Tienda', 'Calificación Promedio']\n",
        "\n",
        "print(satisfaccion_por_tienda)"
      ],
      "metadata": {
        "colab": {
          "base_uri": "https://localhost:8080/"
        },
        "id": "mUMNlpFM_f4I",
        "outputId": "cf7fbd73-4418-4181-ae32-6df9ddbfe7e0"
      },
      "execution_count": 19,
      "outputs": [
        {
          "output_type": "stream",
          "name": "stdout",
          "text": [
            "     Tienda  Calificación Promedio\n",
            "0  Tienda 1               3.976685\n",
            "1  Tienda 2               4.037304\n",
            "2  Tienda 3               4.048326\n",
            "3  Tienda 4               3.995759\n"
          ]
        }
      ]
    },
    {
      "cell_type": "code",
      "source": [
        "d1 =pd.read_csv('/content/tienda_1 .csv')\n",
        "d2 =pd.read_csv('/content/tienda_2.csv')\n",
        "d3 =pd.read_csv('/content/tienda_3.csv')\n",
        "d4 =pd.read_csv('/content/tienda_4.csv')\n",
        "\n",
        "tienda_1['Tienda'] = 'Tienda 1'\n",
        "tienda_2['Tienda'] = 'Tienda 2'\n",
        "tienda_3['Tienda'] = 'Tienda 3'\n",
        "tienda_4['Tienda'] = 'Tienda 4'\n",
        "\n",
        "df_total = pd.concat([tienda_1, tienda_2, tienda_3, tienda_4], ignore_index=True)\n",
        "\n",
        "\n",
        "\n"
      ],
      "metadata": {
        "id": "AiBGkxX5_fyO"
      },
      "execution_count": 20,
      "outputs": []
    },
    {
      "cell_type": "code",
      "source": [
        "df_total['Producto'] = df_total['Producto'].str.strip().str.lower()"
      ],
      "metadata": {
        "id": "FcpfpoNiJnak"
      },
      "execution_count": 21,
      "outputs": []
    },
    {
      "cell_type": "code",
      "source": [
        "productos_por_tienda = df_total.groupby('Tienda')['Producto'].value_counts().reset_index(name='Cantidad de Ventas')"
      ],
      "metadata": {
        "id": "N-NbisBE_fsO"
      },
      "execution_count": 22,
      "outputs": []
    },
    {
      "cell_type": "code",
      "source": [
        "mas_vendidos = productos_por_tienda.sort_values(['Tienda', 'Cantidad de Ventas'], ascending=[True, False]) \\\n",
        "                                   .drop_duplicates('Tienda')"
      ],
      "metadata": {
        "id": "9dT6w7LCLxvr"
      },
      "execution_count": 23,
      "outputs": []
    },
    {
      "cell_type": "code",
      "source": [
        "print(mas_vendidos)"
      ],
      "metadata": {
        "colab": {
          "base_uri": "https://localhost:8080/"
        },
        "id": "MMQSpogxL0p6",
        "outputId": "7ecd20a8-4e15-47df-8089-c04711382a9a"
      },
      "execution_count": 24,
      "outputs": [
        {
          "output_type": "stream",
          "name": "stdout",
          "text": [
            "       Tienda                   Producto  Cantidad de Ventas\n",
            "0    Tienda 1                    armario                  60\n",
            "51   Tienda 2  iniciando en programación                  65\n",
            "102  Tienda 3              kit de bancas                  57\n",
            "153  Tienda 4                   cama box                  62\n"
          ]
        }
      ]
    },
    {
      "cell_type": "code",
      "source": [
        "import matplotlib.pyplot as plt\n",
        "import seaborn as sns\n",
        "\n",
        "# Ordenar para mejor visualización\n",
        "mas_vendidos = mas_vendidos.sort_values('Cantidad de Ventas', ascending=False).reset_index(drop=True)\n",
        "\n",
        "# Crear figura con mayor tamaño\n",
        "plt.figure(figsize=(14,6))\n",
        "\n",
        "# Usamos color uniforme en lugar de palette para evitar la advertencia\n",
        "sns.barplot(data=mas_vendidos, x='Tienda', y='Cantidad de Ventas', color='skyblue')\n",
        "\n",
        "# Etiquetas de texto arriba de las barras (nombre del producto)\n",
        "for index, row in mas_vendidos.iterrows():\n",
        "    plt.text(index, row['Cantidad de Ventas'] + 1, row['Producto'],\n",
        "             ha='center', va='bottom', rotation=90, fontsize=9)\n",
        "\n",
        "# Estética\n",
        "plt.title('Producto Más Vendido por Tienda', fontsize=14)\n",
        "plt.xlabel('Tienda')\n",
        "plt.ylabel('Cantidad de Ventas')\n",
        "plt.xticks(rotation=45, ha='right')\n",
        "\n",
        "# Ajuste manual para evitar recortes\n",
        "plt.subplots_adjust(bottom=0.2)\n",
        "\n",
        "plt.show()"
      ],
      "metadata": {
        "colab": {
          "base_uri": "https://localhost:8080/",
          "height": 648
        },
        "id": "P9Hd2AE1WNoz",
        "outputId": "c2675789-11fa-4ef1-8859-32d5e8c9f414"
      },
      "execution_count": 31,
      "outputs": [
        {
          "output_type": "display_data",
          "data": {
            "text/plain": [
              "<Figure size 1400x600 with 1 Axes>"
            ],
            "image/png": "[encoded data removed]"
          },
          "metadata": {}
        }
      ]
    },
    {
      "cell_type": "code",
      "source": [
        "menos_vendidos = productos_por_tienda.sort_values(['Tienda', 'Cantidad de Ventas'], ascending=[True, True]) \\\n",
        "                                   .drop_duplicates('Tienda')"
      ],
      "metadata": {
        "id": "KkhztkpFL9my"
      },
      "execution_count": 25,
      "outputs": []
    },
    {
      "cell_type": "markdown",
      "source": [
        "Menos vendido"
      ],
      "metadata": {
        "id": "_1MRwE3GQ3hK"
      }
    },
    {
      "cell_type": "code",
      "source": [
        "print(menos_vendidos)"
      ],
      "metadata": {
        "colab": {
          "base_uri": "https://localhost:8080/"
        },
        "id": "wvVywVIyMYKT",
        "outputId": "3b7464f6-b288-4ee7-e2c5-f54c27ed8afb"
      },
      "execution_count": 26,
      "outputs": [
        {
          "output_type": "stream",
          "name": "stdout",
          "text": [
            "       Tienda                   Producto  Cantidad de Ventas\n",
            "49   Tienda 1  auriculares con micrófono                  33\n",
            "101  Tienda 2              juego de mesa                  32\n",
            "152  Tienda 3    bloques de construcción                  35\n",
            "203  Tienda 4         guitarra eléctrica                  33\n"
          ]
        }
      ]
    },
    {
      "cell_type": "markdown",
      "source": [
        "Producto menos vendido | Mas vendido en 4 tiendas"
      ],
      "metadata": {
        "id": "P-nvZFIhQxuw"
      }
    },
    {
      "cell_type": "code",
      "source": [
        "df_total['Producto'] = df_total['Producto'].astype(str).str.strip().str.lower()\n",
        "df_total = df_total[df_total['Producto'].notna()]                     # Eliminar NaN\n",
        "df_total = df_total[df_total['Producto'] != '']                      # Eliminar vacíos\n",
        "df_total = df_total[df_total['Producto'] != 'producto']              # Eliminar encabezado como fila\n",
        "\n",
        "# Contar ventas por producto\n",
        "ventas = df_total['Producto'].value_counts()\n",
        "\n",
        "# Mostrar más y menos vendido\n",
        "print(\"📈 Producto más vendido:\", ventas.idxmax(), \"-\", ventas.max(), \"ventas\")\n",
        "print(\"📉 Producto menos vendido:\", ventas.idxmin(), \"-\", ventas.min(), \"ventas\")"
      ],
      "metadata": {
        "colab": {
          "base_uri": "https://localhost:8080/"
        },
        "id": "OTeg-8AEJPUy",
        "outputId": "8a611b22-fa62-4a34-8518-fe54779bbb43"
      },
      "execution_count": 27,
      "outputs": [
        {
          "output_type": "stream",
          "name": "stdout",
          "text": [
            "📈 Producto más vendido: mesa de noche - 210 ventas\n",
            "📉 Producto menos vendido: celular abxy - 157 ventas\n"
          ]
        }
      ]
    },
    {
      "cell_type": "markdown",
      "source": [
        "Costo por envio por tienda"
      ],
      "metadata": {
        "id": "2UsE1J_ZT7HX"
      }
    },
    {
      "cell_type": "code",
      "source": [
        "tienda_1['Tienda'] = 'Tienda 1'\n",
        "tienda_2['Tienda'] = 'Tienda 2'\n",
        "tienda_3['Tienda'] = 'Tienda 3'\n",
        "tienda_4['Tienda'] = 'Tienda 4'\n",
        "\n",
        "# Unir todos los archivos en uno solo\n",
        "df_total = pd.concat([tienda_1, tienda_2, tienda_3, tienda_4], ignore_index=True)\n",
        "\n",
        "# Calcular calificación promedio por tienda\n",
        "costo_por_envio = df_total.groupby('Tienda')['Costo de envío'].mean().reset_index()\n",
        "costo_por_envio.columns = ['Tienda', 'Costo de envío Promedio']\n",
        "\n",
        "print(costo_por_envio)"
      ],
      "metadata": {
        "colab": {
          "base_uri": "https://localhost:8080/"
        },
        "outputId": "6b750984-cbd7-4fe6-ab93-b2811d9dfb3f",
        "id": "U8NuPgnrTSIc"
      },
      "execution_count": 28,
      "outputs": [
        {
          "output_type": "stream",
          "name": "stdout",
          "text": [
            "     Tienda  Costo de envío Promedio\n",
            "0  Tienda 1             26018.609580\n",
            "1  Tienda 2             25216.235693\n",
            "2  Tienda 3             24805.680373\n",
            "3  Tienda 4             23459.457167\n"
          ]
        }
      ]
    },
    {
      "cell_type": "markdown",
      "source": [
        "Los ingresos totales de las tiendas.\n",
        "= Tienda con más ventas es Tienda 1\n",
        "\n",
        "Las categorías de productos más y menos vendidas.\n",
        "=  mesa de noche - 210 ventas el producto más vendido\n",
        "= celular abxy - 157 ventas el producto menos vendido\n",
        "\n",
        "Las calificaciones promedio de los clientes por tienda.\n",
        "La mejor tienda en calificacion del cliente Tienda 3\n",
        "\n",
        "Los productos más y menos vendidos.\n",
        "=  mesa de noche - 210 ventas el producto más vendido\n",
        "= celular abxy - 157 ventas el producto menos vendido\n",
        "\n",
        "El coste de envío promedio para cada tienda."
      ],
      "metadata": {
        "id": "tr5dkGr_XbTw"
      }
    }
  ]
}